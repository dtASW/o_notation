{
 "cells": [
  {
   "cell_type": "markdown",
   "id": "2808fdf9",
   "metadata": {},
   "source": [
    "# Sorting"
   ]
  },
  {
   "cell_type": "code",
   "execution_count": 93,
   "id": "b46b410f",
   "metadata": {},
   "outputs": [],
   "source": [
    "import time\n",
    "import numpy as np\n",
    "np.random.seed(0)"
   ]
  },
  {
   "cell_type": "code",
   "execution_count": 94,
   "id": "881e765c",
   "metadata": {},
   "outputs": [],
   "source": [
    "data = np.random.randint(1,10000,17000)"
   ]
  },
  {
   "attachments": {},
   "cell_type": "markdown",
   "id": "7dbcaac0",
   "metadata": {},
   "source": [
    "### Insertion Sort: Complexity = O(n^2)"
   ]
  },
  {
   "cell_type": "code",
   "execution_count": 95,
   "id": "b04ff63f",
   "metadata": {},
   "outputs": [],
   "source": [
    "def insertion_sort(arr):\n",
    "    start = time.time()\n",
    "    for i in range(1,len(arr)):# O(n)\n",
    "        j = i#O(1)\n",
    "        while arr[j-1] > arr[j] and  j>0:#O(n)\n",
    "            arr[j-1], arr[j] = arr[j], arr[j-1]#Swapping in python with swag: O(1)\n",
    "            j -=1 #O(1)\n",
    "    print(arr)#O(1)\n",
    "    end = time.time()\n",
    "    print(\"The time of execution of above program is :\", (end-start) * 10**3, \"ms\", \"for a size of \", len(arr))\n",
    "    return arr"
   ]
  },
  {
   "cell_type": "code",
   "execution_count": 96,
   "id": "938bce08",
   "metadata": {},
   "outputs": [
    {
     "name": "stdout",
     "output_type": "stream",
     "text": [
      "[   1    1    1 ... 9999 9999 9999]\n",
      "The time of execution of above program is : 28623.106956481934 ms for a size of  17000\n"
     ]
    }
   ],
   "source": [
    "arr= insertion_sort(data)"
   ]
  },
  {
   "attachments": {},
   "cell_type": "markdown",
   "id": "660c72b1",
   "metadata": {},
   "source": [
    "### Merge Sort: Complexity = O(n log n)"
   ]
  },
  {
   "cell_type": "code",
   "execution_count": 97,
   "id": "7eccde5c",
   "metadata": {},
   "outputs": [],
   "source": [
    "def merge_recursive(arr):\n",
    "    if len(arr)>1:\n",
    "        left_arr= arr[:len(arr)//2]#Slicing and int division\n",
    "        right_arr = arr[len(arr)//2:]\n",
    "\n",
    "        #Recursion\n",
    "        merge_recursive(left_arr)\n",
    "        merge_recursive(right_arr)\n",
    "\n",
    "        #merge\n",
    "        i = 0 #left_arr index\n",
    "        j = 0 #right_arr index\n",
    "        k = 0 #merged array index\n",
    "\n",
    "        while i < len(left_arr) and j < len(right_arr):\n",
    "            if left_arr[i] < right_arr[j]:\n",
    "                arr[k] = left_arr[i]\n",
    "                i +=1\n",
    "            else:\n",
    "                arr[k]= right_arr[j]\n",
    "                j +=1\n",
    "            k += 1\n",
    "        \n",
    "        while i < len(left_arr):\n",
    "            arr[k]= left_arr[i]\n",
    "            i+=1\n",
    "            k+=1\n",
    "        \n",
    "        while j < len(right_arr):\n",
    "            arr[k]= right_arr[j]\n",
    "            j +=1\n",
    "            k +=1\n",
    "        \n"
   ]
  },
  {
   "cell_type": "code",
   "execution_count": 98,
   "id": "aed116e6",
   "metadata": {},
   "outputs": [],
   "source": [
    "#This method is just to calculate the time, if you don't need it, don't worry\n",
    "def merge_algorithm(arr):\n",
    "    start = time.time()\n",
    "    merge_recursive(arr)\n",
    "    end = time.time()\n",
    "    print(\"The time of execution of above program is :\", (end-start) * 10**3, \"ms\", \"for a size of \", len(arr))\n",
    "    return arr"
   ]
  },
  {
   "cell_type": "code",
   "execution_count": 103,
   "id": "b2a7dbef",
   "metadata": {},
   "outputs": [],
   "source": [
    "data = np.random.randint(1,10000,17000)"
   ]
  },
  {
   "cell_type": "code",
   "execution_count": 100,
   "id": "65df9aa5",
   "metadata": {},
   "outputs": [
    {
     "name": "stdout",
     "output_type": "stream",
     "text": [
      "The time of execution of above program is : 104.02679443359375 ms for a size of  17000\n"
     ]
    },
    {
     "data": {
      "text/plain": [
       "array([   1,    1,    1, ..., 1872, 1872, 2844])"
      ]
     },
     "execution_count": 100,
     "metadata": {},
     "output_type": "execute_result"
    }
   ],
   "source": [
    "merge_algorithm(data)"
   ]
  },
  {
   "attachments": {},
   "cell_type": "markdown",
   "id": "32b4b9c7",
   "metadata": {},
   "source": [
    "### Binary search algorithm: Complexity = O(log n)"
   ]
  },
  {
   "cell_type": "code",
   "execution_count": 113,
   "id": "8642b91f",
   "metadata": {},
   "outputs": [
    {
     "name": "stdout",
     "output_type": "stream",
     "text": [
      "The element  10  is located in the position  0\n"
     ]
    }
   ],
   "source": [
    "def binary(arr, n):\n",
    "    lower_bound= 0\n",
    "    upper_bound = len(arr)-1\n",
    "\n",
    "    while lower_bound <= upper_bound:\n",
    "        mid = (lower_bound + upper_bound)//2\n",
    "        if(arr[mid] == n):\n",
    "            return mid\n",
    "        elif(arr[mid]< n):\n",
    "            lower_bound = mid + 1\n",
    "        else:\n",
    "            upper_bound = mid - 1\n",
    "\n",
    "arr = [10,20,30,40,50,60,70,80,90,100]\n",
    "\n",
    "print('The element ',arr[binary(arr, 10)],' is located in the position ',binary(arr,10))"
   ]
  },
  {
   "attachments": {},
   "cell_type": "markdown",
   "id": "7a20750b",
   "metadata": {},
   "source": [
    "### Conclusions\n",
    "\n",
    "So, the algorithm matters! Even when the result is the same, the time it takes is important. We are in the era of Big Data, if we are not careful, some processing might take centuries! <br>\n",
    "\n",
    "Merge sort and binary search use the divide an conquer paradigm, dividing the problem in sub-problems and solving them individually <br>\n",
    "\n",
    "Merge sort is far more efficient than insertion sort (we could test that with the time function you provided)"
   ]
  }
 ],
 "metadata": {
  "kernelspec": {
   "display_name": "complexity",
   "language": "python",
   "name": "python3"
  },
  "language_info": {
   "codemirror_mode": {
    "name": "ipython",
    "version": 3
   },
   "file_extension": ".py",
   "mimetype": "text/x-python",
   "name": "python",
   "nbconvert_exporter": "python",
   "pygments_lexer": "ipython3",
   "version": "3.10.9"
  },
  "vscode": {
   "interpreter": {
    "hash": "6a8af045d6f2d255e5ae568117cfbc69b5ae4523fd458f45ee6af2b4da21ffac"
   }
  }
 },
 "nbformat": 4,
 "nbformat_minor": 5
}
