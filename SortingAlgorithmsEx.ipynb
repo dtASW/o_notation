{
 "cells": [
  {
   "cell_type": "markdown",
   "id": "2808fdf9",
   "metadata": {},
   "source": [
    "# Sorting"
   ]
  },
  {
   "cell_type": "code",
   "execution_count": 123,
   "id": "b46b410f",
   "metadata": {},
   "outputs": [],
   "source": [
    "import time\n",
    "import numpy as np\n",
    "np.random.seed(0)"
   ]
  },
  {
   "cell_type": "code",
   "execution_count": 149,
   "id": "881e765c",
   "metadata": {},
   "outputs": [],
   "source": [
    "data = np.random.randint(1,10000,17000)"
   ]
  },
  {
   "cell_type": "markdown",
   "id": "7dbcaac0",
   "metadata": {},
   "source": [
    "### Insertion Sort"
   ]
  },
  {
   "cell_type": "code",
   "execution_count": 150,
   "id": "b04ff63f",
   "metadata": {},
   "outputs": [],
   "source": [
    "def insertion_sort(arr):\n",
    "    start = time.time()\n",
    "    #Implement Insertion Sort\n",
    "    end = time.time()\n",
    "    print(\"The time of execution of above program is :\", (end-start) * 10**3, \"ms\", \"for a size of \", len(arr))\n",
    "    return arr"
   ]
  },
  {
   "cell_type": "code",
   "execution_count": 151,
   "id": "938bce08",
   "metadata": {},
   "outputs": [
    {
     "name": "stdout",
     "output_type": "stream",
     "text": [
      "The time of execution of above program is : 35881.01053237915 ms for a size of  17000\n"
     ]
    }
   ],
   "source": [
    "arr= insertion_sort(data)"
   ]
  },
  {
   "cell_type": "code",
   "execution_count": 152,
   "id": "4a6799ab",
   "metadata": {},
   "outputs": [
    {
     "data": {
      "text/plain": [
       "array([   1,    2,    3, ..., 9998, 9999, 9999])"
      ]
     },
     "execution_count": 152,
     "metadata": {},
     "output_type": "execute_result"
    }
   ],
   "source": [
    "arr"
   ]
  },
  {
   "cell_type": "markdown",
   "id": "660c72b1",
   "metadata": {},
   "source": [
    "### Merge Sort"
   ]
  },
  {
   "cell_type": "code",
   "execution_count": 153,
   "id": "49e26c66",
   "metadata": {},
   "outputs": [],
   "source": [
    "#I used many methods, if you guys need more or less methods, feel free to change everything.\n",
    "def merge(arr,left,right,mid):\n",
    "    #Auxiliar array\n",
    "    #What's the complexity in space for Merge sort?\n",
    "    new_arr = np.zeros(len(arr))\n",
    "    #Merge, in this method I applied the actual merging.\n",
    "    #I did it with the indices "
   ]
  },
  {
   "cell_type": "code",
   "execution_count": 154,
   "id": "bbe7cf8e",
   "metadata": {},
   "outputs": [],
   "source": [
    "def merge_sort(arr,left,right):\n",
    "    #This method will divide the array"
   ]
  },
  {
   "cell_type": "code",
   "execution_count": 155,
   "id": "aed116e6",
   "metadata": {},
   "outputs": [],
   "source": [
    "#This method is just to calculate the time, if you don't need it, don't worry\n",
    "def merge_algorithm(arr):\n",
    "    start = time.time()\n",
    "    merge_sort(arr,0,len(arr)-1)\n",
    "    end = time.time()\n",
    "    print(\"The time of execution of above program is :\", (end-start) * 10**3, \"ms\", \"for a size of \", len(arr))\n",
    "    return arr"
   ]
  },
  {
   "cell_type": "code",
   "execution_count": 156,
   "id": "b2a7dbef",
   "metadata": {},
   "outputs": [],
   "source": [
    "data = np.random.randint(1,10000,17000)"
   ]
  },
  {
   "cell_type": "code",
   "execution_count": 157,
   "id": "65df9aa5",
   "metadata": {},
   "outputs": [
    {
     "name": "stdout",
     "output_type": "stream",
     "text": [
      "The time of execution of above program is : 191.05935096740723 ms for a size of  17000\n"
     ]
    },
    {
     "data": {
      "text/plain": [
       "array([   2,    2,    3, ..., 9998, 9998, 9999])"
      ]
     },
     "execution_count": 157,
     "metadata": {},
     "output_type": "execute_result"
    }
   ],
   "source": [
    "merge_algorithm(data)"
   ]
  },
  {
   "cell_type": "markdown",
   "id": "9d4798e7",
   "metadata": {},
   "source": [
    "### Algorithm of your choice\n",
    "\n",
    "Know implement another algorithm, anyone works. Use the same size of data."
   ]
  },
  {
   "cell_type": "code",
   "execution_count": null,
   "id": "8642b91f",
   "metadata": {},
   "outputs": [],
   "source": []
  },
  {
   "cell_type": "markdown",
   "id": "7a20750b",
   "metadata": {},
   "source": [
    "### Conclusions\n",
    "\n",
    "So, the algorithm matters! Even when the result is the same, the time it takes is important. We are in the era of Big Data, if we are not careful, some processing might take centuries!"
   ]
  },
  {
   "cell_type": "code",
   "execution_count": null,
   "id": "a400d5f9",
   "metadata": {},
   "outputs": [],
   "source": []
  }
 ],
 "metadata": {
  "kernelspec": {
   "display_name": "Python 3",
   "language": "python",
   "name": "python3"
  },
  "language_info": {
   "codemirror_mode": {
    "name": "ipython",
    "version": 3
   },
   "file_extension": ".py",
   "mimetype": "text/x-python",
   "name": "python",
   "nbconvert_exporter": "python",
   "pygments_lexer": "ipython3",
   "version": "3.11.1"
  },
  "vscode": {
   "interpreter": {
    "hash": "04b15d37ca9d8316e6693b71e0f9989ae819aefad6c762106383d21919801f0f"
   }
  }
 },
 "nbformat": 4,
 "nbformat_minor": 5
}
